{
 "cells": [
  {
   "cell_type": "code",
   "execution_count": 1,
   "metadata": {},
   "outputs": [],
   "source": [
    "import pandas as pd\n",
    "\n",
    "weather = pd.read_csv('../data/new_weather.csv',encoding='cp949')\n",
    "nsv = pd.read_csv('../data/new_nsv.csv',encoding='cp949')"
   ]
  },
  {
   "cell_type": "code",
   "execution_count": 2,
   "metadata": {},
   "outputs": [
    {
     "name": "stdout",
     "output_type": "stream",
     "text": [
      "weather_data :  (8737, 9)\n",
      "nsv_data :  (8760, 3)\n"
     ]
    }
   ],
   "source": [
    "print('weather_data : ',weather.shape)\n",
    "print('nsv_data : ',nsv.shape)"
   ]
  },
  {
   "cell_type": "code",
   "execution_count": 3,
   "metadata": {},
   "outputs": [],
   "source": [
    "weather['time'] = pd.to_datetime(weather['time'])\n",
    "nsv['time'] = pd.to_datetime(nsv['time'])\n",
    "\n",
    "weather = weather.sort_values(by='time')\n",
    "nsv = nsv.sort_values(by='time')"
   ]
  },
  {
   "cell_type": "code",
   "execution_count": 4,
   "metadata": {},
   "outputs": [],
   "source": [
    "data = pd.merge(weather, nsv, on='time')\n",
    "data.drop(['Unnamed: 0_x','Unnamed: 0_y'],axis=1,inplace=True)"
   ]
  },
  {
   "cell_type": "code",
   "execution_count": 5,
   "metadata": {},
   "outputs": [
    {
     "name": "stdout",
     "output_type": "stream",
     "text": [
      "data :  (8737, 9)\n"
     ]
    }
   ],
   "source": [
    "print('data : ',data.shape)"
   ]
  },
  {
   "cell_type": "code",
   "execution_count": 6,
   "metadata": {},
   "outputs": [],
   "source": [
    "data.to_csv('../data/data.csv',encoding='cp949')"
   ]
  },
  {
   "cell_type": "code",
   "execution_count": 7,
   "metadata": {},
   "outputs": [
    {
     "data": {
      "text/html": [
       "<div>\n",
       "<style scoped>\n",
       "    .dataframe tbody tr th:only-of-type {\n",
       "        vertical-align: middle;\n",
       "    }\n",
       "\n",
       "    .dataframe tbody tr th {\n",
       "        vertical-align: top;\n",
       "    }\n",
       "\n",
       "    .dataframe thead th {\n",
       "        text-align: right;\n",
       "    }\n",
       "</style>\n",
       "<table border=\"1\" class=\"dataframe\">\n",
       "  <thead>\n",
       "    <tr style=\"text-align: right;\">\n",
       "      <th></th>\n",
       "      <th>time</th>\n",
       "      <th>temp</th>\n",
       "      <th>rain</th>\n",
       "      <th>wind(m/s)</th>\n",
       "      <th>wind_dir</th>\n",
       "      <th>humidity</th>\n",
       "      <th>hPa</th>\n",
       "      <th>snow</th>\n",
       "      <th>mR/h</th>\n",
       "    </tr>\n",
       "  </thead>\n",
       "  <tbody>\n",
       "    <tr>\n",
       "      <th>0</th>\n",
       "      <td>2019-01-01 00:00:00</td>\n",
       "      <td>-4.9</td>\n",
       "      <td>0.0</td>\n",
       "      <td>0.4</td>\n",
       "      <td>0</td>\n",
       "      <td>62</td>\n",
       "      <td>1026.9</td>\n",
       "      <td>0.0</td>\n",
       "      <td>0.0105</td>\n",
       "    </tr>\n",
       "    <tr>\n",
       "      <th>1</th>\n",
       "      <td>2019-01-01 01:00:00</td>\n",
       "      <td>-4.4</td>\n",
       "      <td>0.0</td>\n",
       "      <td>0.6</td>\n",
       "      <td>90</td>\n",
       "      <td>61</td>\n",
       "      <td>1026.7</td>\n",
       "      <td>0.0</td>\n",
       "      <td>0.0106</td>\n",
       "    </tr>\n",
       "    <tr>\n",
       "      <th>2</th>\n",
       "      <td>2019-01-01 02:00:00</td>\n",
       "      <td>-3.9</td>\n",
       "      <td>0.0</td>\n",
       "      <td>0.4</td>\n",
       "      <td>0</td>\n",
       "      <td>59</td>\n",
       "      <td>1026.7</td>\n",
       "      <td>0.0</td>\n",
       "      <td>0.0106</td>\n",
       "    </tr>\n",
       "    <tr>\n",
       "      <th>3</th>\n",
       "      <td>2019-01-01 03:00:00</td>\n",
       "      <td>-4.4</td>\n",
       "      <td>0.0</td>\n",
       "      <td>1.0</td>\n",
       "      <td>200</td>\n",
       "      <td>61</td>\n",
       "      <td>1027.2</td>\n",
       "      <td>0.0</td>\n",
       "      <td>0.0106</td>\n",
       "    </tr>\n",
       "    <tr>\n",
       "      <th>4</th>\n",
       "      <td>2019-01-01 04:00:00</td>\n",
       "      <td>-5.1</td>\n",
       "      <td>0.0</td>\n",
       "      <td>0.7</td>\n",
       "      <td>320</td>\n",
       "      <td>66</td>\n",
       "      <td>1026.7</td>\n",
       "      <td>0.0</td>\n",
       "      <td>0.0105</td>\n",
       "    </tr>\n",
       "  </tbody>\n",
       "</table>\n",
       "</div>"
      ],
      "text/plain": [
       "                 time  temp  rain  wind(m/s)  wind_dir  humidity     hPa  \\\n",
       "0 2019-01-01 00:00:00  -4.9   0.0        0.4         0        62  1026.9   \n",
       "1 2019-01-01 01:00:00  -4.4   0.0        0.6        90        61  1026.7   \n",
       "2 2019-01-01 02:00:00  -3.9   0.0        0.4         0        59  1026.7   \n",
       "3 2019-01-01 03:00:00  -4.4   0.0        1.0       200        61  1027.2   \n",
       "4 2019-01-01 04:00:00  -5.1   0.0        0.7       320        66  1026.7   \n",
       "\n",
       "   snow    mR/h  \n",
       "0   0.0  0.0105  \n",
       "1   0.0  0.0106  \n",
       "2   0.0  0.0106  \n",
       "3   0.0  0.0106  \n",
       "4   0.0  0.0105  "
      ]
     },
     "execution_count": 7,
     "metadata": {},
     "output_type": "execute_result"
    }
   ],
   "source": [
    "data.head()"
   ]
  },
  {
   "cell_type": "code",
   "execution_count": null,
   "metadata": {},
   "outputs": [],
   "source": []
  }
 ],
 "metadata": {
  "kernelspec": {
   "display_name": "cook",
   "language": "python",
   "name": "python3"
  },
  "language_info": {
   "codemirror_mode": {
    "name": "ipython",
    "version": 3
   },
   "file_extension": ".py",
   "mimetype": "text/x-python",
   "name": "python",
   "nbconvert_exporter": "python",
   "pygments_lexer": "ipython3",
   "version": "3.8.16 | packaged by conda-forge | (default, Feb  1 2023, 16:05:36) \n[Clang 14.0.6 ]"
  },
  "orig_nbformat": 4,
  "vscode": {
   "interpreter": {
    "hash": "51b871a2915a80e80f9d5297899c175906cded92562d8342f1bdaf32fcf0cd55"
   }
  }
 },
 "nbformat": 4,
 "nbformat_minor": 2
}

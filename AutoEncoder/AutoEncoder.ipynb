{
 "cells": [
  {
   "cell_type": "code",
   "execution_count": 1,
   "metadata": {},
   "outputs": [
    {
     "name": "stderr",
     "output_type": "stream",
     "text": [
      "2023-05-02 16:05:20.684884: I tensorflow/core/platform/cpu_feature_guard.cc:193] This TensorFlow binary is optimized with oneAPI Deep Neural Network Library (oneDNN) to use the following CPU instructions in performance-critical operations:  SSE4.1 SSE4.2\n",
      "To enable them in other operations, rebuild TensorFlow with the appropriate compiler flags.\n"
     ]
    }
   ],
   "source": [
    "from pyod.models.auto_encoder import AutoEncoder\n",
    "from pyod.utils.data import generate_data\n",
    "from pyod.utils.data import evaluate_print\n",
    "import pandas as pd \n",
    "contamination = 0.1\n",
    "n_train = 20000\n",
    "n_test = 2000\n",
    "n_features = 300\n",
    "\n",
    "X_train, X_test, y_train, y_test = generate_data(n_train=n_train, n_test=n_test, n_features=n_features, contamination=contamination, random_state=42)"
   ]
  },
  {
   "cell_type": "code",
   "execution_count": 2,
   "metadata": {},
   "outputs": [
    {
     "name": "stdout",
     "output_type": "stream",
     "text": [
      "Model: \"sequential\"\n",
      "_________________________________________________________________\n",
      " Layer (type)                Output Shape              Param #   \n",
      "=================================================================\n",
      " dense (Dense)               (None, 300)               90300     \n",
      "                                                                 \n",
      " dropout (Dropout)           (None, 300)               0         \n",
      "                                                                 \n",
      " dense_1 (Dense)             (None, 300)               90300     \n",
      "                                                                 \n",
      " dropout_1 (Dropout)         (None, 300)               0         \n",
      "                                                                 \n",
      " dense_2 (Dense)             (None, 300)               90300     \n",
      "                                                                 \n",
      " dropout_2 (Dropout)         (None, 300)               0         \n",
      "                                                                 \n",
      " dense_3 (Dense)             (None, 100)               30100     \n",
      "                                                                 \n",
      " dropout_3 (Dropout)         (None, 100)               0         \n",
      "                                                                 \n",
      " dense_4 (Dense)             (None, 100)               10100     \n",
      "                                                                 \n",
      " dropout_4 (Dropout)         (None, 100)               0         \n",
      "                                                                 \n",
      " dense_5 (Dense)             (None, 300)               30300     \n",
      "                                                                 \n",
      " dropout_5 (Dropout)         (None, 300)               0         \n",
      "                                                                 \n",
      " dense_6 (Dense)             (None, 300)               90300     \n",
      "                                                                 \n",
      "=================================================================\n",
      "Total params: 431,700\n",
      "Trainable params: 431,700\n",
      "Non-trainable params: 0\n",
      "_________________________________________________________________\n",
      "None\n",
      "Epoch 1/10\n"
     ]
    },
    {
     "name": "stderr",
     "output_type": "stream",
     "text": [
      "2023-05-02 16:05:23.212479: I tensorflow/core/platform/cpu_feature_guard.cc:193] This TensorFlow binary is optimized with oneAPI Deep Neural Network Library (oneDNN) to use the following CPU instructions in performance-critical operations:  SSE4.1 SSE4.2\n",
      "To enable them in other operations, rebuild TensorFlow with the appropriate compiler flags.\n"
     ]
    },
    {
     "name": "stdout",
     "output_type": "stream",
     "text": [
      "563/563 [==============================] - 3s 4ms/step - loss: 3.6334 - val_loss: 1.4833\n",
      "Epoch 2/10\n",
      "563/563 [==============================] - 2s 3ms/step - loss: 1.2821 - val_loss: 1.1121\n",
      "Epoch 3/10\n",
      "563/563 [==============================] - 2s 3ms/step - loss: 1.1213 - val_loss: 1.0427\n",
      "Epoch 4/10\n",
      "563/563 [==============================] - 2s 3ms/step - loss: 1.0823 - val_loss: 1.0150\n",
      "Epoch 5/10\n",
      "563/563 [==============================] - 2s 3ms/step - loss: 1.0643 - val_loss: 0.9963\n",
      "Epoch 6/10\n",
      "563/563 [==============================] - 2s 3ms/step - loss: 1.0531 - val_loss: 0.9873\n",
      "Epoch 7/10\n",
      "563/563 [==============================] - 2s 4ms/step - loss: 1.0452 - val_loss: 0.9802\n",
      "Epoch 8/10\n",
      "563/563 [==============================] - 2s 3ms/step - loss: 1.0391 - val_loss: 0.9739\n",
      "Epoch 9/10\n",
      "563/563 [==============================] - 2s 3ms/step - loss: 1.0344 - val_loss: 0.9685\n",
      "Epoch 10/10\n",
      "563/563 [==============================] - 2s 3ms/step - loss: 1.0278 - val_loss: 0.9649\n",
      "625/625 [==============================] - 1s 1ms/step\n"
     ]
    },
    {
     "data": {
      "text/plain": [
       "AutoEncoder(batch_size=32, contamination=0.1, dropout_rate=0.2, epochs=10,\n",
       "      hidden_activation='relu', hidden_neurons=[300, 100, 100, 300],\n",
       "      l2_regularizer=0.1,\n",
       "      loss=<function mean_squared_error at 0x7fdac9a86c10>,\n",
       "      optimizer='adam', output_activation='sigmoid', preprocessing=True,\n",
       "      random_state=None, validation_size=0.1, verbose=1)"
      ]
     },
     "execution_count": 2,
     "metadata": {},
     "output_type": "execute_result"
    }
   ],
   "source": [
    "clf_name = 'AutoEncoder'\n",
    "clf = AutoEncoder(hidden_neurons=[300,100,100,300], epochs=10, contamination=contamination)\n",
    "clf.fit(X_train)"
   ]
  },
  {
   "cell_type": "code",
   "execution_count": 3,
   "metadata": {},
   "outputs": [
    {
     "name": "stdout",
     "output_type": "stream",
     "text": [
      "63/63 [==============================] - 0s 1ms/step\n"
     ]
    }
   ],
   "source": [
    "y_train_pred = clf.labels_\n",
    "y_train_score = clf.decision_scores_\n",
    "\n",
    "y_test_pred = clf.predict(X_test)\n",
    "y_test_score = clf.decision_scores_"
   ]
  },
  {
   "cell_type": "code",
   "execution_count": 4,
   "metadata": {},
   "outputs": [
    {
     "data": {
      "text/plain": [
       "0    1800\n",
       "1     200\n",
       "dtype: int64"
      ]
     },
     "execution_count": 4,
     "metadata": {},
     "output_type": "execute_result"
    }
   ],
   "source": [
    "pd.Series(y_test_pred).value_counts()"
   ]
  },
  {
   "cell_type": "code",
   "execution_count": 5,
   "metadata": {},
   "outputs": [
    {
     "name": "stderr",
     "output_type": "stream",
     "text": [
      "/var/folders/37/brl3s2hn2rdfswx8sdr8xp000000gn/T/ipykernel_93772/392837055.py:12: UserWarning: \n",
      "\n",
      "`distplot` is a deprecated function and will be removed in seaborn v0.14.0.\n",
      "\n",
      "Please adapt your code to use either `displot` (a figure-level function with\n",
      "similar flexibility) or `histplot` (an axes-level function for histograms).\n",
      "\n",
      "For a guide to updating your code to use the new functions, please see\n",
      "https://gist.github.com/mwaskom/de44147ed2974457ad6372750bbe5751\n",
      "\n",
      "  sns.distplot(mod_z)\n"
     ]
    },
    {
     "data": {
      "text/plain": [
       "<AxesSubplot: ylabel='Density'>"
      ]
     },
     "execution_count": 5,
     "metadata": {},
     "output_type": "execute_result"
    },
    {
     "data": {
      "image/png": "[encoded data removed]",
      "text/plain": [
       "<Figure size 640x480 with 1 Axes>"
      ]
     },
     "metadata": {},
     "output_type": "display_data"
    }
   ],
   "source": [
    "import seaborn as sns\n",
    "import numpy as np\n",
    "\n",
    "def mod_z(col):\n",
    "    med_col = col.median()\n",
    "    med_abs_dev = (np.abs(col-med_col)).median()\n",
    "    mod_z = 0.7413*((col-med_col)/med_abs_dev)\n",
    "    return np.abs(mod_z)\n",
    "\n",
    "pd_s = pd.Series(y_test_score)\n",
    "mod_z = mod_z(pd_s)\n",
    "sns.distplot(mod_z)"
   ]
  },
  {
   "cell_type": "code",
   "execution_count": 6,
   "metadata": {},
   "outputs": [
    {
     "name": "stdout",
     "output_type": "stream",
     "text": [
      "Training Data : \n",
      "AutoEncoder ROC:1.0, precision @ rank n:1.0\n",
      "Testing Data : \n"
     ]
    },
    {
     "ename": "ValueError",
     "evalue": "Found input variables with inconsistent numbers of samples: [2000, 20000]",
     "output_type": "error",
     "traceback": [
      "\u001b[0;31m---------------------------------------------------------------------------\u001b[0m",
      "\u001b[0;31mValueError\u001b[0m                                Traceback (most recent call last)",
      "Cell \u001b[0;32mIn[6], line 4\u001b[0m\n\u001b[1;32m      2\u001b[0m evaluate_print(clf_name, y_train, y_train_score)\n\u001b[1;32m      3\u001b[0m \u001b[39mprint\u001b[39m(\u001b[39m\"\u001b[39m\u001b[39mTesting Data : \u001b[39m\u001b[39m\"\u001b[39m)\n\u001b[0;32m----> 4\u001b[0m evaluate_print(clf_name, y_test, y_test_score)\n",
      "File \u001b[0;32m~/opt/anaconda3/envs/radi/lib/python3.8/site-packages/pyod/utils/data.py:297\u001b[0m, in \u001b[0;36mevaluate_print\u001b[0;34m(clf_name, y, y_pred)\u001b[0m\n\u001b[1;32m    295\u001b[0m y \u001b[39m=\u001b[39m column_or_1d(y)\n\u001b[1;32m    296\u001b[0m y_pred \u001b[39m=\u001b[39m column_or_1d(y_pred)\n\u001b[0;32m--> 297\u001b[0m check_consistent_length(y, y_pred)\n\u001b[1;32m    299\u001b[0m \u001b[39mprint\u001b[39m(\u001b[39m'\u001b[39m\u001b[39m{clf_name}\u001b[39;00m\u001b[39m ROC:\u001b[39m\u001b[39m{roc}\u001b[39;00m\u001b[39m, precision @ rank n:\u001b[39m\u001b[39m{prn}\u001b[39;00m\u001b[39m'\u001b[39m\u001b[39m.\u001b[39mformat(\n\u001b[1;32m    300\u001b[0m     clf_name\u001b[39m=\u001b[39mclf_name,\n\u001b[1;32m    301\u001b[0m     roc\u001b[39m=\u001b[39mnp\u001b[39m.\u001b[39mround(roc_auc_score(y, y_pred), decimals\u001b[39m=\u001b[39m\u001b[39m4\u001b[39m),\n\u001b[1;32m    302\u001b[0m     prn\u001b[39m=\u001b[39mnp\u001b[39m.\u001b[39mround(precision_n_scores(y, y_pred), decimals\u001b[39m=\u001b[39m\u001b[39m4\u001b[39m)))\n",
      "File \u001b[0;32m~/opt/anaconda3/envs/radi/lib/python3.8/site-packages/sklearn/utils/validation.py:397\u001b[0m, in \u001b[0;36mcheck_consistent_length\u001b[0;34m(*arrays)\u001b[0m\n\u001b[1;32m    395\u001b[0m uniques \u001b[39m=\u001b[39m np\u001b[39m.\u001b[39munique(lengths)\n\u001b[1;32m    396\u001b[0m \u001b[39mif\u001b[39;00m \u001b[39mlen\u001b[39m(uniques) \u001b[39m>\u001b[39m \u001b[39m1\u001b[39m:\n\u001b[0;32m--> 397\u001b[0m     \u001b[39mraise\u001b[39;00m \u001b[39mValueError\u001b[39;00m(\n\u001b[1;32m    398\u001b[0m         \u001b[39m\"\u001b[39m\u001b[39mFound input variables with inconsistent numbers of samples: \u001b[39m\u001b[39m%r\u001b[39;00m\u001b[39m\"\u001b[39m\n\u001b[1;32m    399\u001b[0m         \u001b[39m%\u001b[39m [\u001b[39mint\u001b[39m(l) \u001b[39mfor\u001b[39;00m l \u001b[39min\u001b[39;00m lengths]\n\u001b[1;32m    400\u001b[0m     )\n",
      "\u001b[0;31mValueError\u001b[0m: Found input variables with inconsistent numbers of samples: [2000, 20000]"
     ]
    }
   ],
   "source": [
    "print(\"Training Data : \")\n",
    "evaluate_print(clf_name, y_train, y_train_score)\n",
    "print(\"Testing Data : \")\n",
    "evaluate_print(clf_name, y_test, y_test_score)"
   ]
  },
  {
   "cell_type": "code",
   "execution_count": null,
   "metadata": {},
   "outputs": [],
   "source": []
  }
 ],
 "metadata": {
  "kernelspec": {
   "display_name": "base",
   "language": "python",
   "name": "python3"
  },
  "language_info": {
   "codemirror_mode": {
    "name": "ipython",
    "version": 3
   },
   "file_extension": ".py",
   "mimetype": "text/x-python",
   "name": "python",
   "nbconvert_exporter": "python",
   "pygments_lexer": "ipython3",
   "version": "3.8.16"
  },
  "orig_nbformat": 4,
  "vscode": {
   "interpreter": {
    "hash": "652f2f1e48f81aaa3f4effbb7b3289fa8b6ab644617f9f35049175a3dff20cba"
   }
  }
 },
 "nbformat": 4,
 "nbformat_minor": 2
}
